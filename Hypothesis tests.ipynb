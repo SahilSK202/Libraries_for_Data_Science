{
 "cells": [
  {
   "cell_type": "code",
   "execution_count": 1,
   "metadata": {
    "ExecuteTime": {
     "end_time": "2020-12-29T13:40:33.963496Z",
     "start_time": "2020-12-29T13:40:33.009164Z"
    }
   },
   "outputs": [],
   "source": [
    "import pandas as pd\n",
    "import numpy as np\n",
    "import seaborn as sb\n"
   ]
  },
  {
   "cell_type": "code",
   "execution_count": 2,
   "metadata": {
    "ExecuteTime": {
     "end_time": "2020-12-29T13:40:33.982025Z",
     "start_time": "2020-12-29T13:40:33.963496Z"
    }
   },
   "outputs": [
    {
     "data": {
      "text/html": [
       "<div>\n",
       "<style scoped>\n",
       "    .dataframe tbody tr th:only-of-type {\n",
       "        vertical-align: middle;\n",
       "    }\n",
       "\n",
       "    .dataframe tbody tr th {\n",
       "        vertical-align: top;\n",
       "    }\n",
       "\n",
       "    .dataframe thead th {\n",
       "        text-align: right;\n",
       "    }\n",
       "</style>\n",
       "<table border=\"1\" class=\"dataframe\">\n",
       "  <thead>\n",
       "    <tr style=\"text-align: right;\">\n",
       "      <th></th>\n",
       "      <th>total_bill</th>\n",
       "      <th>tip</th>\n",
       "      <th>sex</th>\n",
       "      <th>smoker</th>\n",
       "      <th>day</th>\n",
       "      <th>time</th>\n",
       "      <th>size</th>\n",
       "    </tr>\n",
       "  </thead>\n",
       "  <tbody>\n",
       "    <tr>\n",
       "      <th>0</th>\n",
       "      <td>16.99</td>\n",
       "      <td>1.01</td>\n",
       "      <td>Female</td>\n",
       "      <td>No</td>\n",
       "      <td>Sun</td>\n",
       "      <td>Dinner</td>\n",
       "      <td>2</td>\n",
       "    </tr>\n",
       "    <tr>\n",
       "      <th>1</th>\n",
       "      <td>10.34</td>\n",
       "      <td>1.66</td>\n",
       "      <td>Male</td>\n",
       "      <td>No</td>\n",
       "      <td>Sun</td>\n",
       "      <td>Dinner</td>\n",
       "      <td>3</td>\n",
       "    </tr>\n",
       "    <tr>\n",
       "      <th>2</th>\n",
       "      <td>21.01</td>\n",
       "      <td>3.50</td>\n",
       "      <td>Male</td>\n",
       "      <td>No</td>\n",
       "      <td>Sun</td>\n",
       "      <td>Dinner</td>\n",
       "      <td>3</td>\n",
       "    </tr>\n",
       "    <tr>\n",
       "      <th>3</th>\n",
       "      <td>23.68</td>\n",
       "      <td>3.31</td>\n",
       "      <td>Male</td>\n",
       "      <td>No</td>\n",
       "      <td>Sun</td>\n",
       "      <td>Dinner</td>\n",
       "      <td>2</td>\n",
       "    </tr>\n",
       "    <tr>\n",
       "      <th>4</th>\n",
       "      <td>24.59</td>\n",
       "      <td>3.61</td>\n",
       "      <td>Female</td>\n",
       "      <td>No</td>\n",
       "      <td>Sun</td>\n",
       "      <td>Dinner</td>\n",
       "      <td>4</td>\n",
       "    </tr>\n",
       "  </tbody>\n",
       "</table>\n",
       "</div>"
      ],
      "text/plain": [
       "   total_bill   tip     sex smoker  day    time  size\n",
       "0       16.99  1.01  Female     No  Sun  Dinner     2\n",
       "1       10.34  1.66    Male     No  Sun  Dinner     3\n",
       "2       21.01  3.50    Male     No  Sun  Dinner     3\n",
       "3       23.68  3.31    Male     No  Sun  Dinner     2\n",
       "4       24.59  3.61  Female     No  Sun  Dinner     4"
      ]
     },
     "execution_count": 2,
     "metadata": {},
     "output_type": "execute_result"
    }
   ],
   "source": [
    "data = sb.load_dataset('tips')\n",
    "data.head()"
   ]
  },
  {
   "cell_type": "markdown",
   "metadata": {},
   "source": [
    "size is no of people in a party"
   ]
  },
  {
   "cell_type": "code",
   "execution_count": 3,
   "metadata": {
    "ExecuteTime": {
     "end_time": "2020-12-29T13:40:34.061974Z",
     "start_time": "2020-12-29T13:40:33.982025Z"
    }
   },
   "outputs": [
    {
     "data": {
      "text/html": [
       "<div>\n",
       "<style scoped>\n",
       "    .dataframe tbody tr th:only-of-type {\n",
       "        vertical-align: middle;\n",
       "    }\n",
       "\n",
       "    .dataframe tbody tr th {\n",
       "        vertical-align: top;\n",
       "    }\n",
       "\n",
       "    .dataframe thead th {\n",
       "        text-align: right;\n",
       "    }\n",
       "</style>\n",
       "<table border=\"1\" class=\"dataframe\">\n",
       "  <thead>\n",
       "    <tr style=\"text-align: right;\">\n",
       "      <th></th>\n",
       "      <th>total_bill</th>\n",
       "      <th>tip</th>\n",
       "      <th>sex</th>\n",
       "      <th>smoker</th>\n",
       "      <th>day</th>\n",
       "      <th>time</th>\n",
       "      <th>size</th>\n",
       "    </tr>\n",
       "  </thead>\n",
       "  <tbody>\n",
       "    <tr>\n",
       "      <th>count</th>\n",
       "      <td>244.000000</td>\n",
       "      <td>244.000000</td>\n",
       "      <td>244</td>\n",
       "      <td>244</td>\n",
       "      <td>244</td>\n",
       "      <td>244</td>\n",
       "      <td>244.000000</td>\n",
       "    </tr>\n",
       "    <tr>\n",
       "      <th>unique</th>\n",
       "      <td>NaN</td>\n",
       "      <td>NaN</td>\n",
       "      <td>2</td>\n",
       "      <td>2</td>\n",
       "      <td>4</td>\n",
       "      <td>2</td>\n",
       "      <td>NaN</td>\n",
       "    </tr>\n",
       "    <tr>\n",
       "      <th>top</th>\n",
       "      <td>NaN</td>\n",
       "      <td>NaN</td>\n",
       "      <td>Male</td>\n",
       "      <td>No</td>\n",
       "      <td>Sat</td>\n",
       "      <td>Dinner</td>\n",
       "      <td>NaN</td>\n",
       "    </tr>\n",
       "    <tr>\n",
       "      <th>freq</th>\n",
       "      <td>NaN</td>\n",
       "      <td>NaN</td>\n",
       "      <td>157</td>\n",
       "      <td>151</td>\n",
       "      <td>87</td>\n",
       "      <td>176</td>\n",
       "      <td>NaN</td>\n",
       "    </tr>\n",
       "    <tr>\n",
       "      <th>mean</th>\n",
       "      <td>19.785943</td>\n",
       "      <td>2.998279</td>\n",
       "      <td>NaN</td>\n",
       "      <td>NaN</td>\n",
       "      <td>NaN</td>\n",
       "      <td>NaN</td>\n",
       "      <td>2.569672</td>\n",
       "    </tr>\n",
       "    <tr>\n",
       "      <th>std</th>\n",
       "      <td>8.902412</td>\n",
       "      <td>1.383638</td>\n",
       "      <td>NaN</td>\n",
       "      <td>NaN</td>\n",
       "      <td>NaN</td>\n",
       "      <td>NaN</td>\n",
       "      <td>0.951100</td>\n",
       "    </tr>\n",
       "    <tr>\n",
       "      <th>min</th>\n",
       "      <td>3.070000</td>\n",
       "      <td>1.000000</td>\n",
       "      <td>NaN</td>\n",
       "      <td>NaN</td>\n",
       "      <td>NaN</td>\n",
       "      <td>NaN</td>\n",
       "      <td>1.000000</td>\n",
       "    </tr>\n",
       "    <tr>\n",
       "      <th>25%</th>\n",
       "      <td>13.347500</td>\n",
       "      <td>2.000000</td>\n",
       "      <td>NaN</td>\n",
       "      <td>NaN</td>\n",
       "      <td>NaN</td>\n",
       "      <td>NaN</td>\n",
       "      <td>2.000000</td>\n",
       "    </tr>\n",
       "    <tr>\n",
       "      <th>50%</th>\n",
       "      <td>17.795000</td>\n",
       "      <td>2.900000</td>\n",
       "      <td>NaN</td>\n",
       "      <td>NaN</td>\n",
       "      <td>NaN</td>\n",
       "      <td>NaN</td>\n",
       "      <td>2.000000</td>\n",
       "    </tr>\n",
       "    <tr>\n",
       "      <th>75%</th>\n",
       "      <td>24.127500</td>\n",
       "      <td>3.562500</td>\n",
       "      <td>NaN</td>\n",
       "      <td>NaN</td>\n",
       "      <td>NaN</td>\n",
       "      <td>NaN</td>\n",
       "      <td>3.000000</td>\n",
       "    </tr>\n",
       "    <tr>\n",
       "      <th>max</th>\n",
       "      <td>50.810000</td>\n",
       "      <td>10.000000</td>\n",
       "      <td>NaN</td>\n",
       "      <td>NaN</td>\n",
       "      <td>NaN</td>\n",
       "      <td>NaN</td>\n",
       "      <td>6.000000</td>\n",
       "    </tr>\n",
       "  </tbody>\n",
       "</table>\n",
       "</div>"
      ],
      "text/plain": [
       "        total_bill         tip   sex smoker  day    time        size\n",
       "count   244.000000  244.000000   244    244  244     244  244.000000\n",
       "unique         NaN         NaN     2      2    4       2         NaN\n",
       "top            NaN         NaN  Male     No  Sat  Dinner         NaN\n",
       "freq           NaN         NaN   157    151   87     176         NaN\n",
       "mean     19.785943    2.998279   NaN    NaN  NaN     NaN    2.569672\n",
       "std       8.902412    1.383638   NaN    NaN  NaN     NaN    0.951100\n",
       "min       3.070000    1.000000   NaN    NaN  NaN     NaN    1.000000\n",
       "25%      13.347500    2.000000   NaN    NaN  NaN     NaN    2.000000\n",
       "50%      17.795000    2.900000   NaN    NaN  NaN     NaN    2.000000\n",
       "75%      24.127500    3.562500   NaN    NaN  NaN     NaN    3.000000\n",
       "max      50.810000   10.000000   NaN    NaN  NaN     NaN    6.000000"
      ]
     },
     "execution_count": 3,
     "metadata": {},
     "output_type": "execute_result"
    }
   ],
   "source": [
    "data.describe(include=\"all\")"
   ]
  },
  {
   "cell_type": "code",
   "execution_count": 40,
   "metadata": {
    "ExecuteTime": {
     "end_time": "2020-12-29T15:03:53.704177Z",
     "start_time": "2020-12-29T15:03:53.664288Z"
    }
   },
   "outputs": [
    {
     "data": {
      "text/plain": [
       "total_bill    229\n",
       "tip           123\n",
       "sex             2\n",
       "smoker          2\n",
       "day             4\n",
       "time            2\n",
       "size            6\n",
       "dtype: int64"
      ]
     },
     "execution_count": 40,
     "metadata": {},
     "output_type": "execute_result"
    }
   ],
   "source": [
    "data.nunique()"
   ]
  },
  {
   "cell_type": "code",
   "execution_count": null,
   "metadata": {},
   "outputs": [],
   "source": []
  },
  {
   "cell_type": "markdown",
   "metadata": {},
   "source": [
    "### Quantiles"
   ]
  },
  {
   "cell_type": "code",
   "execution_count": 4,
   "metadata": {
    "ExecuteTime": {
     "end_time": "2020-12-29T13:40:34.069965Z",
     "start_time": "2020-12-29T13:40:34.061974Z"
    }
   },
   "outputs": [
    {
     "name": "stdout",
     "output_type": "stream",
     "text": [
      "Q1 quantile of total_bill :  13.3475\n",
      "Q2 quantile of total_bill :  17.795\n",
      "Q3 quantile of total_bill :  24.127499999999998\n",
      "100th quantile of total_bill :  50.81\n"
     ]
    }
   ],
   "source": [
    "print(\"Q1 quantile of total_bill : \", np.quantile(data['total_bill'], .25)) \n",
    "print(\"Q2 quantile of total_bill : \", np.quantile(data['total_bill'], .50)) \n",
    "print(\"Q3 quantile of total_bill : \", np.quantile(data['total_bill'], .75)) \n",
    "print(\"100th quantile of total_bill : \", np.quantile(data['total_bill'], 1))  "
   ]
  },
  {
   "cell_type": "code",
   "execution_count": 5,
   "metadata": {
    "ExecuteTime": {
     "end_time": "2020-12-29T13:40:34.101944Z",
     "start_time": "2020-12-29T13:40:34.069965Z"
    }
   },
   "outputs": [
    {
     "name": "stdout",
     "output_type": "stream",
     "text": [
      "25th percentile of total_bill :  13.3475\n",
      "50th percentile of total_bill :  17.795\n",
      "75th percentile of total_bill :  24.127499999999998\n",
      "75th percentile of total_bill :  50.81\n"
     ]
    }
   ],
   "source": [
    "print(\"25th percentile of total_bill : \", np.percentile(data['total_bill'], 25))\n",
    "print(\"50th percentile of total_bill : \",np.percentile(data['total_bill'], 50))\n",
    "print(\"75th percentile of total_bill : \",np.percentile(data['total_bill'], 75))\n",
    "print(\"75th percentile of total_bill : \",np.percentile(data['total_bill'], 100))"
   ]
  },
  {
   "cell_type": "markdown",
   "metadata": {
    "ExecuteTime": {
     "end_time": "2020-12-29T07:45:37.598972Z",
     "start_time": "2020-12-29T07:45:37.573042Z"
    }
   },
   "source": [
    "### Hypothesis testing"
   ]
  },
  {
   "cell_type": "markdown",
   "metadata": {
    "ExecuteTime": {
     "end_time": "2020-12-29T11:01:43.222134Z",
     "start_time": "2020-12-29T11:01:41.583523Z"
    }
   },
   "source": [
    "![title](flowchart-for-choosing-a-statistical-test.png)"
   ]
  },
  {
   "cell_type": "code",
   "execution_count": null,
   "metadata": {},
   "outputs": [],
   "source": []
  },
  {
   "cell_type": "markdown",
   "metadata": {
    "ExecuteTime": {
     "end_time": "2020-12-29T08:08:47.189978Z",
     "start_time": "2020-12-29T08:08:47.185989Z"
    }
   },
   "source": [
    "Tutorial Overview\n",
    "This tutorial is divided into 5 parts; they are:\n",
    "\n",
    "1. Normality Tests\n",
    "   *  Shapiro-Wilk Test\n",
    "   *  D’Agostino’s K^2 Test\n",
    "   *  Anderson-Darling Test\n",
    "\n",
    "2. Variance Equaltiy Tests\n",
    "   *  Bartlette's Test\n",
    "   *  Levene's Test\n",
    "   *  F- Test\n",
    "\n",
    "3. Correlation Tests\n",
    "   *  Pearson’s Correlation Coefficient\n",
    "   *  Spearman’s Rank Correlation\n",
    "   *  Kendall’s Rank Correlation\n",
    "   *  Chi-Squared Test\n",
    "   \n",
    "4. Stationary Tests\n",
    "   *  Augmented Dickey-Fuller\n",
    "   *  Kwiatkowski-Phillips-Schmidt-Shin\n",
    "   \n",
    "5. Parametric Statistical Hypothesis Tests\n",
    "   *  Student’s t-test\n",
    "   *  Paired Student’s t-test\n",
    "   *  Analysis of Variance Test (ANOVA)\n",
    "   *  Repeated Measures ANOVA Test\n",
    "   \n",
    "6. Nonparametric Statistical Hypothesis Tests\n",
    "   *  Mann-Whitney U Test\n",
    "   *  Wilcoxon Signed-Rank Test\n",
    "   *  Kruskal-Wallis H Test\n",
    "   *  Friedman Test"
   ]
  },
  {
   "cell_type": "code",
   "execution_count": null,
   "metadata": {},
   "outputs": [],
   "source": []
  },
  {
   "cell_type": "markdown",
   "metadata": {
    "ExecuteTime": {
     "end_time": "2020-12-29T08:13:50.378134Z",
     "start_time": "2020-12-29T08:13:50.342225Z"
    }
   },
   "source": [
    "#### P-values are often interpreted as your risk of rejecting the null hypothesis of your test when the null hypothesis is actually true.\n",
    "\n",
    "1. Risk of rejecting null hypothesis\n",
    "2. Chance of Accepting Null hypothesis\n",
    "\n",
    "#### Generally threshold is 0.05 i.e. 5%\n",
    "#### If p value < 0.05 ;  we reject null hypothesis"
   ]
  },
  {
   "cell_type": "code",
   "execution_count": null,
   "metadata": {},
   "outputs": [],
   "source": []
  },
  {
   "cell_type": "markdown",
   "metadata": {},
   "source": [
    "### Normality Tests\n",
    "\n",
    "Tests whether a data sample has a Gaussian distribution.\n",
    "\n",
    "1. Assumptions\n",
    "\n",
    "* Observations in each sample are independent and identically distributed (iid).\n",
    "2. Interpretation\n",
    "\n",
    "* H0: the sample has a Gaussian distribution.\n",
    "* H1: the sample does not have a Gaussian distribution."
   ]
  },
  {
   "cell_type": "markdown",
   "metadata": {},
   "source": [
    "#### Shapiro Wilk test"
   ]
  },
  {
   "cell_type": "code",
   "execution_count": 6,
   "metadata": {
    "ExecuteTime": {
     "end_time": "2020-12-29T13:40:34.125927Z",
     "start_time": "2020-12-29T13:40:34.101944Z"
    }
   },
   "outputs": [
    {
     "name": "stdout",
     "output_type": "stream",
     "text": [
      "stat=0.920, p=0.000\n",
      "Probably not Gaussian\n"
     ]
    }
   ],
   "source": [
    "\n",
    "# Example of the Shapiro-Wilk Normality Test\n",
    "from scipy.stats import shapiro\n",
    "\n",
    "stat, p = shapiro(data['total_bill'])\n",
    "print('stat=%.3f, p=%.3f' % (stat, p))\n",
    "if p > 0.05:\n",
    "    print('Probably Gaussian')\n",
    "else:\n",
    "    print('Probably not Gaussian')"
   ]
  },
  {
   "cell_type": "markdown",
   "metadata": {},
   "source": [
    "#### D’Agostino’s K^2 Test"
   ]
  },
  {
   "cell_type": "code",
   "execution_count": 7,
   "metadata": {
    "ExecuteTime": {
     "end_time": "2020-12-29T13:40:34.173895Z",
     "start_time": "2020-12-29T13:40:34.125927Z"
    }
   },
   "outputs": [
    {
     "name": "stdout",
     "output_type": "stream",
     "text": [
      "stat=45.118, p=0.000\n",
      "Probably not Gaussian\n"
     ]
    }
   ],
   "source": [
    "# Example of the K^2 Normality Test\n",
    "from scipy.stats import normaltest\n",
    "\n",
    "stat, p = normaltest(data['total_bill'])\n",
    "print('stat=%.3f, p=%.3f' % (stat, p))\n",
    "if p > 0.05:\n",
    "    print('Probably Gaussian')\n",
    "else:\n",
    "    print('Probably not Gaussian')"
   ]
  },
  {
   "cell_type": "markdown",
   "metadata": {},
   "source": [
    "#### Anderson-Darling Test"
   ]
  },
  {
   "cell_type": "code",
   "execution_count": 8,
   "metadata": {
    "ExecuteTime": {
     "end_time": "2020-12-29T13:40:34.205875Z",
     "start_time": "2020-12-29T13:40:34.173895Z"
    }
   },
   "outputs": [
    {
     "name": "stdout",
     "output_type": "stream",
     "text": [
      "stat=5.521\n",
      "Probably not Gaussian at the 15.0% level\n",
      "Probably not Gaussian at the 10.0% level\n",
      "Probably not Gaussian at the 5.0% level\n",
      "Probably not Gaussian at the 2.5% level\n",
      "Probably not Gaussian at the 1.0% level\n"
     ]
    }
   ],
   "source": [
    "# Example of the Anderson Normality Test\n",
    "from scipy.stats import anderson\n",
    "\n",
    "result = anderson(data['total_bill'])\n",
    "print('stat=%.3f' % (result.statistic))\n",
    "for i in range(len(result.critical_values)):\n",
    "    sl, cv = result.significance_level[i], result.critical_values[i]\n",
    "\n",
    "    if result.statistic < cv:\n",
    "        print('Probably Gaussian at the %.1f%% level' % (sl))\n",
    "    else:\n",
    "        print('Probably not Gaussian at the %.1f%% level' % (sl))\n",
    "        \n"
   ]
  },
  {
   "cell_type": "code",
   "execution_count": null,
   "metadata": {},
   "outputs": [],
   "source": []
  },
  {
   "cell_type": "markdown",
   "metadata": {},
   "source": [
    "### Variance Tests"
   ]
  },
  {
   "cell_type": "markdown",
   "metadata": {},
   "source": [
    "####  Bartlett’s test for equal variances.\n",
    "\n",
    "* Bartlett’s test of homogeneity of variances is a test, much like Levene’s test, that measures whether the variances are equal for all samples.\n",
    "* If your data is normally distributed you can use Bartlett’s test"
   ]
  },
  {
   "cell_type": "code",
   "execution_count": 53,
   "metadata": {
    "ExecuteTime": {
     "end_time": "2020-12-29T15:46:46.409252Z",
     "start_time": "2020-12-29T15:46:46.401255Z"
    }
   },
   "outputs": [
    {
     "name": "stdout",
     "output_type": "stream",
     "text": [
      "stat=1.231, p=0.540\n",
      "Probably equal variance\n"
     ]
    }
   ],
   "source": [
    "# Example of the Barlett Variance test\n",
    "from scipy.stats import bartlett\n",
    "\n",
    "data2=[[2,25,14,8,7],[41,23,10,1,11],[25,13,3,23]]\n",
    "\n",
    "stat, p = bartlett(*data2)\n",
    "print('stat=%.3f, p=%.3f' % (stat, p))\n",
    "\n",
    "if p > 0.05:\n",
    "    print('Probably equal variance')\n",
    "else:\n",
    "    print('Probably NOT equal variance')\n",
    "\n",
    "\n"
   ]
  },
  {
   "cell_type": "code",
   "execution_count": 55,
   "metadata": {
    "ExecuteTime": {
     "end_time": "2020-12-29T15:47:00.007148Z",
     "start_time": "2020-12-29T15:46:59.999155Z"
    }
   },
   "outputs": [
    {
     "name": "stdout",
     "output_type": "stream",
     "text": [
      "stat=24.393, p=0.000\n",
      "Probably NOT equal variance\n"
     ]
    }
   ],
   "source": [
    "# Example of the Barlett Variance  test\n",
    "from scipy.stats import bartlett\n",
    "\n",
    "data2=[[2,25,14,8,7],[41,23,10,1,11],[325,13,3,23]]\n",
    "\n",
    "stat, p = bartlett(*data2)\n",
    "print('stat=%.3f, p=%.3f' % (stat, p))\n",
    "\n",
    "if p > 0.05:\n",
    "    print('Probably equal variance')\n",
    "else:\n",
    "    print('Probably NOT equal variance')"
   ]
  },
  {
   "cell_type": "code",
   "execution_count": 69,
   "metadata": {
    "ExecuteTime": {
     "end_time": "2020-12-29T15:50:50.223150Z",
     "start_time": "2020-12-29T15:50:50.215157Z"
    }
   },
   "outputs": [
    {
     "name": "stdout",
     "output_type": "stream",
     "text": [
      "stat=22.789, p=0.000\n",
      "Probably NOT equal variance\n"
     ]
    }
   ],
   "source": [
    "# Example of the Barlett Variance  test\n",
    "from scipy.stats import bartlett\n",
    "\n",
    "a = [8.88, 9.12, 9.04, 8.98, 9.00, 9.08, 9.01, 8.85, 9.06, 8.99]\n",
    "b = [8.88, 8.95, 9.29, 9.44, 9.15, 9.58, 8.36, 9.18, 8.67, 9.05]\n",
    "c = [8.95, 9.12, 8.95, 8.85, 9.03, 8.84, 9.07, 8.98, 8.86, 8.98]\n",
    "stat, p = bartlett(a, b, c)\n",
    "\n",
    "print('stat=%.3f, p=%.3f' % (stat, p))\n",
    "\n",
    "if p > 0.05:\n",
    "    print('Probably equal variance')\n",
    "else:\n",
    "    print('Probably NOT equal variance')"
   ]
  },
  {
   "cell_type": "code",
   "execution_count": 70,
   "metadata": {
    "ExecuteTime": {
     "end_time": "2020-12-29T15:51:37.680615Z",
     "start_time": "2020-12-29T15:51:37.664974Z"
    }
   },
   "outputs": [
    {
     "data": {
      "text/plain": [
       "[0.007054444444444413, 0.13073888888888888, 0.008890000000000002]"
      ]
     },
     "execution_count": 70,
     "metadata": {},
     "output_type": "execute_result"
    }
   ],
   "source": [
    "[np.var(x, ddof=1) for x in [a, b, c]]"
   ]
  },
  {
   "cell_type": "markdown",
   "metadata": {},
   "source": [
    "#### Levenes Test\n",
    "\n",
    "* Levene’s test can be carried out to check that variances are equal for all samples. \n",
    "* The test can be used to check the assumption of equal variances before running a parametric test like One-Way ANOVA in Python. \n",
    "* If your data is not following a normal distribution Levene’s test is preferred before Barlett’s."
   ]
  },
  {
   "cell_type": "code",
   "execution_count": 56,
   "metadata": {
    "ExecuteTime": {
     "end_time": "2020-12-29T15:47:38.119835Z",
     "start_time": "2020-12-29T15:47:38.111841Z"
    }
   },
   "outputs": [
    {
     "name": "stdout",
     "output_type": "stream",
     "text": [
      "stat=0.351, p=0.712\n",
      "Probably equal variance\n"
     ]
    }
   ],
   "source": [
    "# Example of the Levene's Variance test\n",
    "from scipy.stats import levene\n",
    "\n",
    "data2=[[2,25,14,8,7],[41,23,10,1,11],[25,13,3,23]]\n",
    "\n",
    "stat, p = levene(*data2)\n",
    "print('stat=%.3f, p=%.3f' % (stat, p))\n",
    "\n",
    "if p > 0.05:\n",
    "    print('Probably equal variance')\n",
    "else:\n",
    "    print('Probably NOT equal variance')\n"
   ]
  },
  {
   "cell_type": "code",
   "execution_count": 72,
   "metadata": {
    "ExecuteTime": {
     "end_time": "2020-12-29T15:52:57.642089Z",
     "start_time": "2020-12-29T15:52:57.626354Z"
    }
   },
   "outputs": [
    {
     "name": "stdout",
     "output_type": "stream",
     "text": [
      "stat=7.585, p=0.002\n",
      "Probably NOT equal variance\n"
     ]
    }
   ],
   "source": [
    "# Example of the Levene Variance  test\n",
    "from scipy.stats import levene\n",
    "\n",
    "a = [8.88, 9.12, 9.04, 8.98, 9.00, 9.08, 9.01, 8.85, 9.06, 8.99]\n",
    "b = [8.88, 8.95, 9.29, 9.44, 9.15, 9.58, 8.36, 9.18, 8.67, 9.05]\n",
    "c = [8.95, 9.12, 8.95, 8.85, 9.03, 8.84, 9.07, 8.98, 8.86, 8.98]\n",
    "stat, p = levene(a, b, c)\n",
    "\n",
    "\n",
    "\n",
    "print('stat=%.3f, p=%.3f' % (stat, p))\n",
    "\n",
    "if p > 0.05:\n",
    "    print('Probably equal variance')\n",
    "else:\n",
    "    print('Probably NOT equal variance')"
   ]
  },
  {
   "cell_type": "markdown",
   "metadata": {},
   "source": [
    "### F-Test\n",
    "* The F-test is typically used to answer one of the following questions:\n",
    "\n",
    "1. Do two samples come from populations with equal variances?\n",
    "\n",
    "2. Does a new treatment or process reduce the variability of some current treatment or process?"
   ]
  },
  {
   "cell_type": "code",
   "execution_count": null,
   "metadata": {},
   "outputs": [],
   "source": []
  },
  {
   "cell_type": "code",
   "execution_count": 96,
   "metadata": {
    "ExecuteTime": {
     "end_time": "2020-12-29T16:20:46.113640Z",
     "start_time": "2020-12-29T16:20:46.105502Z"
    }
   },
   "outputs": [],
   "source": [
    "#define F-test function\n",
    "def f_test(x, y):\n",
    "    import scipy.stats as st\n",
    "    x = np.array(x)\n",
    "    y = np.array(y)\n",
    "    f = np.var(x, ddof=1)/np.var(y, ddof=1) #calculate F test statistic \n",
    "    dfn = x.size-1 #define degrees of freedom numerator \n",
    "    dfd = y.size-1 #define degrees of freedom denominator \n",
    "    p = 1 - st.f.cdf(f, dfn, dfd) #find p-value of F test statistic\n",
    "    print('F-stat = %.3f, p = %.3f' % (f, p))\n",
    "    if p > 0.05:\n",
    "        print('Probably equal variance')\n",
    "    else:\n",
    "        print('Probably NOT equal variance')\n",
    "   # return f, p\n",
    "\n"
   ]
  },
  {
   "cell_type": "code",
   "execution_count": 101,
   "metadata": {
    "ExecuteTime": {
     "end_time": "2020-12-29T16:21:30.453190Z",
     "start_time": "2020-12-29T16:21:30.445196Z"
    }
   },
   "outputs": [
    {
     "name": "stdout",
     "output_type": "stream",
     "text": [
      "F-stat = 4.387, p = 0.019\n",
      "Probably NOT equal variance\n"
     ]
    }
   ],
   "source": [
    "x = [18, 19, 22, 25, 27, 28, 41, 45, 51, 55]\n",
    "y = [14, 15, 15, 17, 18, 22, 25, 25, 27, 34]\n",
    "\n",
    "#perform F-test\n",
    "f_test(x , y)"
   ]
  },
  {
   "cell_type": "markdown",
   "metadata": {},
   "source": [
    "### Correlation tests"
   ]
  },
  {
   "cell_type": "markdown",
   "metadata": {},
   "source": [
    "1. Assumptions\n",
    "\n",
    "*  Observations in each sample are independent and identically distributed (iid).\n",
    "*  Observations in each sample are normally distributed.\n",
    "*  Observations in each sample have the same variance.\n",
    "\n",
    "2. Interpretation\n",
    "\n",
    "*  H0: the two samples are independent.\n",
    "*  H1: there is a dependency between the samples."
   ]
  },
  {
   "cell_type": "markdown",
   "metadata": {},
   "source": [
    "#### Pearsons correlation coeff"
   ]
  },
  {
   "cell_type": "code",
   "execution_count": 9,
   "metadata": {
    "ExecuteTime": {
     "end_time": "2020-12-29T13:40:34.245846Z",
     "start_time": "2020-12-29T13:40:34.205875Z"
    }
   },
   "outputs": [
    {
     "name": "stdout",
     "output_type": "stream",
     "text": [
      "stat=0.676, p=0.000\n",
      "Probably dependent\n"
     ]
    }
   ],
   "source": [
    "\n",
    "# Example of the Pearson's Correlation test\n",
    "from scipy.stats import pearsonr\n",
    "\n",
    "stat, p = pearsonr(data['total_bill'], data['tip'])\n",
    "print('stat=%.3f, p=%.3f' % (stat, p))\n",
    "\n",
    "if p > 0.05:\n",
    "    print('Probably independent')\n",
    "else:\n",
    "    print('Probably dependent')"
   ]
  },
  {
   "cell_type": "code",
   "execution_count": 10,
   "metadata": {
    "ExecuteTime": {
     "end_time": "2020-12-29T13:40:34.269831Z",
     "start_time": "2020-12-29T13:40:34.245846Z"
    }
   },
   "outputs": [
    {
     "name": "stdout",
     "output_type": "stream",
     "text": [
      "stat=0.598, p=0.000\n",
      "Probably dependent\n"
     ]
    }
   ],
   "source": [
    "# Example of the Pearson's Correlation test\n",
    "from scipy.stats import pearsonr\n",
    "\n",
    "stat, p = pearsonr(data['total_bill'], data['size'])\n",
    "print('stat=%.3f, p=%.3f' % (stat, p))\n",
    "\n",
    "if p > 0.05:\n",
    "    print('Probably independent')\n",
    "else:\n",
    "    print('Probably dependent')"
   ]
  },
  {
   "cell_type": "markdown",
   "metadata": {},
   "source": [
    "#### Spearman’s Rank Correlation"
   ]
  },
  {
   "cell_type": "markdown",
   "metadata": {},
   "source": [
    "1. Assumptions\n",
    "\n",
    "*  Observations in each sample are independent and identically distributed (iid).\n",
    "*  Observations in each sample can be ranked.\n",
    "\n",
    "\n",
    "2. Interpretation\n",
    "\n",
    "*  H0: the two samples are independent.\n",
    "*  H1: there is a dependency between the samples.\n",
    "\n"
   ]
  },
  {
   "cell_type": "code",
   "execution_count": 11,
   "metadata": {
    "ExecuteTime": {
     "end_time": "2020-12-29T13:40:34.309994Z",
     "start_time": "2020-12-29T13:40:34.269831Z"
    }
   },
   "outputs": [
    {
     "name": "stdout",
     "output_type": "stream",
     "text": [
      "stat=-0.003, p=0.965\n",
      "Probably independent\n"
     ]
    }
   ],
   "source": [
    "\n",
    "# Example of the Spearman's Rank Correlation Test\n",
    "from scipy.stats import spearmanr\n",
    "\n",
    "stat, p = spearmanr(data['total_bill'], data.index)\n",
    "print('stat=%.3f, p=%.3f' % (stat, p))\n",
    "\n",
    "if p > 0.05:\n",
    "    print('Probably independent')\n",
    "else:\n",
    "    print('Probably dependent')"
   ]
  },
  {
   "cell_type": "markdown",
   "metadata": {},
   "source": [
    "#### Kendall’s Rank Correlation"
   ]
  },
  {
   "cell_type": "code",
   "execution_count": 12,
   "metadata": {
    "ExecuteTime": {
     "end_time": "2020-12-29T13:40:34.317799Z",
     "start_time": "2020-12-29T13:40:34.309994Z"
    }
   },
   "outputs": [
    {
     "name": "stdout",
     "output_type": "stream",
     "text": [
      "stat=0.484, p=0.000\n",
      "Probably dependent\n"
     ]
    }
   ],
   "source": [
    "# Example of the Kendalls Rank Correlation Test\n",
    "from scipy.stats import kendalltau\n",
    "\n",
    "stat, p = kendalltau(data['total_bill'], data['size'])\n",
    "print('stat=%.3f, p=%.3f' % (stat, p))\n",
    "\n",
    "if p > 0.05:\n",
    "    print('Probably independent')\n",
    "else:\n",
    "    print('Probably dependent')"
   ]
  },
  {
   "cell_type": "markdown",
   "metadata": {},
   "source": [
    "#### Chi-squared test"
   ]
  },
  {
   "cell_type": "markdown",
   "metadata": {},
   "source": [
    "1. Assumptions\n",
    "\n",
    "*  Observations in each sample are independent and identically distributed (iid).\n",
    "*  25 or more examples in each cell of the contingency table.\n",
    "\n",
    "\n",
    "2. Interpretation\n",
    "\n",
    "*  H0: the two samples are independent.\n",
    "*  H1: there is a dependency between the samples.\n",
    "\n"
   ]
  },
  {
   "cell_type": "code",
   "execution_count": 13,
   "metadata": {
    "ExecuteTime": {
     "end_time": "2020-12-29T13:40:34.349779Z",
     "start_time": "2020-12-29T13:40:34.317799Z"
    }
   },
   "outputs": [
    {
     "name": "stdout",
     "output_type": "stream",
     "text": [
      "smoker  Yes  No\n",
      "sex            \n",
      "Male     60  97\n",
      "Female   33  54\n",
      "\n",
      "degree of freedom : =  1 \n",
      "\n",
      " exected values :- \n",
      " [[59.84016393 97.15983607]\n",
      " [33.15983607 53.84016393]]\n",
      "\n",
      "stat=0.009, p=0.925\n",
      "Probably independent\n"
     ]
    }
   ],
   "source": [
    "\n",
    "# Example of the Chi-Squared Test\n",
    "from scipy.stats import chi2_contingency\n",
    "\n",
    "# table = [[10, 20, 30],[20,  40,  60]]\n",
    "\n",
    "table = pd.crosstab(data['sex'] , data['smoker'])\n",
    "print(table)\n",
    "\n",
    "stat, p, dof, expected = chi2_contingency(table)\n",
    "print(\"\\ndegree of freedom : = \" ,dof ,\"\\n\\n exected values :- \\n\" , expected)\n",
    "\n",
    "print('\\nstat=%.3f, p=%.3f' % (stat, p))\n",
    "if p > 0.05:\n",
    "    print('Probably independent')\n",
    "else:\n",
    "    print('Probably dependent')"
   ]
  },
  {
   "cell_type": "code",
   "execution_count": null,
   "metadata": {},
   "outputs": [],
   "source": []
  },
  {
   "cell_type": "markdown",
   "metadata": {},
   "source": [
    "## Stationary Tests\n",
    "*  This section lists statistical tests that you can use to check if a time series is stationary or not.\n",
    "\n"
   ]
  },
  {
   "cell_type": "markdown",
   "metadata": {},
   "source": [
    "#### Augmented Dickey-Fuller Unit Root Test\n",
    "\n",
    "* Tests whether a time series has a unit root, e.g. has a trend or more generally is autoregressive.\n",
    "\n",
    "1. Assumptions\n",
    "\n",
    "* Observations in are temporally ordered.\n",
    "2. Interpretation\n",
    "\n",
    "* H0: a unit root is present (series is non-stationary).\n",
    "* H1: a unit root is not present (series is stationary)."
   ]
  },
  {
   "cell_type": "code",
   "execution_count": 14,
   "metadata": {
    "ExecuteTime": {
     "end_time": "2020-12-29T13:40:34.499973Z",
     "start_time": "2020-12-29T13:40:34.349779Z"
    }
   },
   "outputs": [
    {
     "name": "stdout",
     "output_type": "stream",
     "text": [
      "stat=0.992, p=0.994\n",
      "Probably not Stationary\n"
     ]
    }
   ],
   "source": [
    "\n",
    "# Example of the Augmented Dickey-Fuller unit root test\n",
    "from statsmodels.tsa.stattools import adfuller\n",
    "\n",
    "timeseries = [0, 1, 2, 3, 4, 5, 6, 7, 8, 9]\n",
    "stat, p, lags, obs, crit, t = adfuller(timeseries)\n",
    "\n",
    "print('stat=%.3f, p=%.3f' % (stat, p))\n",
    "if p > 0.05:\n",
    "    print('Probably not Stationary')\n",
    "else:\n",
    "    print('Probably Stationary')"
   ]
  },
  {
   "cell_type": "markdown",
   "metadata": {},
   "source": [
    "#### Kwiatkowski-Phillips-Schmidt-Shin"
   ]
  },
  {
   "cell_type": "code",
   "execution_count": 15,
   "metadata": {
    "ExecuteTime": {
     "end_time": "2020-12-29T13:40:34.507852Z",
     "start_time": "2020-12-29T13:40:34.499973Z"
    }
   },
   "outputs": [
    {
     "name": "stdout",
     "output_type": "stream",
     "text": [
      "stat=0.410, p=0.073\n",
      "Probably not Stationary\n"
     ]
    },
    {
     "name": "stderr",
     "output_type": "stream",
     "text": [
      "C:\\Users\\ASUS\\anaconda3\\lib\\site-packages\\statsmodels\\tsa\\stattools.py:1850: FutureWarning: The behavior of using nlags=None will change in release 0.13.Currently nlags=None is the same as nlags=\"legacy\", and so a sample-size lag length is used. After the next release, the default will change to be the same as nlags=\"auto\" which uses an automatic lag length selection method. To silence this warning, either use \"auto\" or \"legacy\"\n",
      "  warnings.warn(msg, FutureWarning)\n"
     ]
    }
   ],
   "source": [
    "\n",
    "# Example of the Kwiatkowski-Phillips-Schmidt-Shin test\n",
    "from statsmodels.tsa.stattools import kpss\n",
    "timeseries = [0, 1, 2, 3, 4, 5, 6, 7, 8, 9]\n",
    "\n",
    "stat, p, lags, crit = kpss(timeseries)\n",
    "\n",
    "print('stat=%.3f, p=%.3f' % (stat, p))\n",
    "if p > 0.05:\n",
    "    print('Probably not Stationary')\n",
    "else:\n",
    "    print('Probably Stationary')"
   ]
  },
  {
   "cell_type": "code",
   "execution_count": null,
   "metadata": {},
   "outputs": [],
   "source": []
  },
  {
   "cell_type": "markdown",
   "metadata": {},
   "source": [
    "### Parametric Statistical Hypothesis Tests\n",
    "\n",
    "*  This section lists statistical tests that you can use to compare data samples."
   ]
  },
  {
   "cell_type": "code",
   "execution_count": null,
   "metadata": {},
   "outputs": [],
   "source": []
  },
  {
   "cell_type": "markdown",
   "metadata": {},
   "source": [
    "### Student’s t-test\n",
    "\n",
    "* Tests whether the means of two independent samples are significantly different.\n",
    "\n",
    "1. Assumptions\n",
    "\n",
    "    * Observations in each sample are independent and identically distributed (iid).\n",
    "    * Observations in each sample are normally distributed.\n",
    "    * Observations in each sample have the same variance.\n",
    "2. Interpretation\n",
    "\n",
    "    * H0: the means of the samples are equal.\n",
    "    * H1: the means of the samples are unequal."
   ]
  },
  {
   "cell_type": "code",
   "execution_count": 16,
   "metadata": {
    "ExecuteTime": {
     "end_time": "2020-12-29T13:40:34.635859Z",
     "start_time": "2020-12-29T13:40:34.507852Z"
    }
   },
   "outputs": [
    {
     "name": "stdout",
     "output_type": "stream",
     "text": [
      "stat=29.107, p=0.000\n",
      "Probably different distributions\n"
     ]
    }
   ],
   "source": [
    "# Example of the Student's t-test\n",
    "\n",
    "from scipy.stats import ttest_ind\n",
    "\n",
    "\n",
    "stat, p = ttest_ind(data['total_bill'], data['tip'])\n",
    "\n",
    "print('stat=%.3f, p=%.3f' % (stat, p))\n",
    "if p > 0.05:\n",
    "    print('Probably the same distribution')\n",
    "else:\n",
    "    print('Probably different distributions')"
   ]
  },
  {
   "cell_type": "code",
   "execution_count": 20,
   "metadata": {
    "ExecuteTime": {
     "end_time": "2020-12-29T13:43:58.378797Z",
     "start_time": "2020-12-29T13:43:58.370873Z"
    }
   },
   "outputs": [
    {
     "name": "stdout",
     "output_type": "stream",
     "text": [
      "stat=29.107, p=0.000\n",
      "Probably different distributions\n"
     ]
    }
   ],
   "source": [
    "# Example of one sample test\n",
    "\n",
    "from scipy.stats import ttest_1samp\n",
    "\n",
    "tstat, p = ttest_1samp(data['total_bill'], popmean=np.mean(data['tip']))\n",
    "\n",
    "print('stat=%.3f, p=%.3f' % (stat, p))\n",
    "if p > 0.05:\n",
    "    print('Probably the same distribution')\n",
    "else:\n",
    "    print('Probably different distributions')"
   ]
  },
  {
   "cell_type": "code",
   "execution_count": null,
   "metadata": {},
   "outputs": [],
   "source": []
  },
  {
   "cell_type": "markdown",
   "metadata": {},
   "source": [
    "###  Paired Student’s t-test\n",
    "\n",
    "* Tests whether the means of two paired samples are significantly different.\n",
    "\n",
    "1. Assumptions\n",
    "\n",
    "    * Observations in each sample are independent and identically distributed (iid).\n",
    "    * Observations in each sample are normally distributed. (shapiro)\n",
    "    * Observations in each sample have the same variance.(F test)\n",
    "    * Observations across each sample are paired. (sample having two values e.g. Before & After)\n",
    "    \n",
    "2. Interpretation\n",
    "\n",
    "    * H0: the means of the samples are equal.\n",
    "    * H1: the means of the samples are unequal."
   ]
  },
  {
   "cell_type": "code",
   "execution_count": 38,
   "metadata": {
    "ExecuteTime": {
     "end_time": "2020-12-29T14:18:13.416787Z",
     "start_time": "2020-12-29T14:18:13.406812Z"
    }
   },
   "outputs": [
    {
     "name": "stdout",
     "output_type": "stream",
     "text": [
      "stat=0.670, p=0.520\n",
      "Probably the same distribution\n"
     ]
    }
   ],
   "source": [
    "# Example of the Paired Student's t-test\n",
    "from scipy.stats import ttest_rel\n",
    "\n",
    "before = np.array([0.873, 2.817, 0.121, -0.945, -0.055, -1.436, 0.360, -1.478, -1.637, -1.869])\n",
    "after = before*10 + 0.145\n",
    "\n",
    "stat, p = ttest_rel(before, after)\n",
    "# stat, p = ttest_rel(data['total_bill'], data['tip'])\n",
    "\n",
    "print('stat=%.3f, p=%.3f' % (stat, p))\n",
    "if p > 0.05:\n",
    "    print('Probably the same distribution')\n",
    "else:\n",
    "    print('Probably different distributions')"
   ]
  },
  {
   "cell_type": "code",
   "execution_count": null,
   "metadata": {
    "collapsed": true
   },
   "outputs": [],
   "source": []
  },
  {
   "cell_type": "markdown",
   "metadata": {},
   "source": [
    "### Analysis of Variance Test (ANOVA)"
   ]
  },
  {
   "cell_type": "markdown",
   "metadata": {},
   "source": [
    "* Tests whether the means of two or more independent samples are significantly different.\n",
    "\n",
    "\n",
    "1. Assumptions\n",
    "\n",
    "    * Observations in each sample are independent and identically distributed (iid).\n",
    "    * Observations in each sample are normally distributed.\n",
    "    * Observations in each sample have the same variance.\n",
    "2. Interpretation\n",
    "\n",
    "    * H0: the means of the samples are equal.\n",
    "    * H1: the means of the samples are unequal."
   ]
  },
  {
   "cell_type": "code",
   "execution_count": 42,
   "metadata": {
    "ExecuteTime": {
     "end_time": "2020-12-29T15:23:20.415478Z",
     "start_time": "2020-12-29T15:23:20.407505Z"
    }
   },
   "outputs": [
    {
     "name": "stdout",
     "output_type": "stream",
     "text": [
      "stat=859.805, p=0.000\n",
      "Probably different distributions\n"
     ]
    }
   ],
   "source": [
    "# Example of the Analysis of Variance Test\n",
    "\n",
    "from scipy.stats import f_oneway\n",
    "\n",
    "stat, p = f_oneway(data['total_bill'] , data['tip'] , data['size'])\n",
    "print('stat=%.3f, p=%.3f' % (stat, p))\n",
    "if p > 0.05:\n",
    "    print('Probably the same distribution')\n",
    "else:\n",
    "    print('Probably different distributions')"
   ]
  },
  {
   "cell_type": "code",
   "execution_count": null,
   "metadata": {},
   "outputs": [],
   "source": []
  },
  {
   "cell_type": "markdown",
   "metadata": {},
   "source": [
    "### Nonparametric Statistical Hypothesis Tests"
   ]
  },
  {
   "cell_type": "markdown",
   "metadata": {},
   "source": [
    "#### Mann-Whitney U Test\n",
    "\n",
    "* Tests whether the distributions of two independent samples are equal or not.\n",
    "\n",
    "1. Assumptions\n",
    "\n",
    "    * Observations in each sample are independent and identically distributed (iid).\n",
    "    * Observations in each sample can be ranked.\n",
    "2. Interpretation\n",
    "\n",
    "    * H0: the distributions of both samples are equal.\n",
    "    * H1: the distributions of both samples are not equal."
   ]
  },
  {
   "cell_type": "code",
   "execution_count": 44,
   "metadata": {
    "ExecuteTime": {
     "end_time": "2020-12-29T15:26:20.821872Z",
     "start_time": "2020-12-29T15:26:20.812900Z"
    }
   },
   "outputs": [
    {
     "name": "stdout",
     "output_type": "stream",
     "text": [
      "stat=40.000, p=0.236\n",
      "Probably the same distribution\n"
     ]
    }
   ],
   "source": [
    "# Example of the Mann-Whitney U Test\n",
    "\n",
    "from scipy.stats import mannwhitneyu\n",
    "data1 = [0.873, 2.817, 0.121, -0.945, -0.055, -1.436, 0.360, -1.478, -1.637, -1.869]\n",
    "data2 = [1.142, -0.432, -0.938, -0.729, -0.846, -0.157, 0.500, 1.183, -1.075, -0.169]\n",
    "\n",
    "stat, p = mannwhitneyu(data1, data2)\n",
    "print('stat=%.3f, p=%.3f' % (stat, p))\n",
    "if p > 0.05:\n",
    "    print('Probably the same distribution')\n",
    "else:\n",
    "    print('Probably different distributions')"
   ]
  },
  {
   "cell_type": "code",
   "execution_count": null,
   "metadata": {},
   "outputs": [],
   "source": []
  },
  {
   "cell_type": "markdown",
   "metadata": {},
   "source": [
    "#### Wilcoxon Signed-Rank Test\n",
    "\n",
    "* Tests whether the means of two paired samples are significantly different.\n",
    "\n",
    "1. Assumptions\n",
    "\n",
    "    * Observations in each sample are independent and identically distributed (iid).\n",
    "    * Observations in each sample can be ranked.)\n",
    "    * Observations across each sample are paired. (sample having two values e.g. Before & After)\n",
    "    \n",
    "2. Interpretation\n",
    "\n",
    "    * H0: the distributions of both samples are equal.\n",
    "    * H1: the distributions of both samples are not equal."
   ]
  },
  {
   "cell_type": "code",
   "execution_count": 45,
   "metadata": {
    "ExecuteTime": {
     "end_time": "2020-12-29T15:28:09.707265Z",
     "start_time": "2020-12-29T15:28:09.699286Z"
    }
   },
   "outputs": [
    {
     "name": "stdout",
     "output_type": "stream",
     "text": [
      "stat=21.000, p=0.557\n",
      "Probably the same distribution\n"
     ]
    }
   ],
   "source": [
    "# Example of the Wilcoxon Signed-Rank Test\n",
    "from scipy.stats import wilcoxon\n",
    "data1 = [0.873, 2.817, 0.121, -0.945, -0.055, -1.436, 0.360, -1.478, -1.637, -1.869]\n",
    "data2 = [1.142, -0.432, -0.938, -0.729, -0.846, -0.157, 0.500, 1.183, -1.075, -0.169]\n",
    "stat, p = wilcoxon(data1, data2)\n",
    "print('stat=%.3f, p=%.3f' % (stat, p))\n",
    "if p > 0.05:\n",
    "    print('Probably the same distribution')\n",
    "else:\n",
    "    print('Probably different distributions')\n"
   ]
  },
  {
   "cell_type": "code",
   "execution_count": null,
   "metadata": {},
   "outputs": [],
   "source": []
  },
  {
   "cell_type": "markdown",
   "metadata": {},
   "source": [
    "### Kruskal-Wallis H Test\n",
    "\n",
    "* Tests whether the distributions of two or more independent samples are equal or not.\n",
    "\n",
    "1. Assumptions\n",
    "\n",
    "    * Observations in each sample are independent and identically distributed (iid).\n",
    "    * Observations in each sample can be ranked.\n",
    "2. Interpretation\n",
    "\n",
    "    * H0: the distributions of all samples are equal.\n",
    "    * H1: the distributions of one or more samples are not equal."
   ]
  },
  {
   "cell_type": "code",
   "execution_count": 46,
   "metadata": {
    "ExecuteTime": {
     "end_time": "2020-12-29T15:29:40.655516Z",
     "start_time": "2020-12-29T15:29:40.646583Z"
    }
   },
   "outputs": [
    {
     "name": "stdout",
     "output_type": "stream",
     "text": [
      "stat=0.571, p=0.450\n",
      "Probably the same distribution\n"
     ]
    }
   ],
   "source": [
    "# Example of the Kruskal-Wallis H Test\n",
    "from scipy.stats import kruskal\n",
    "\n",
    "data1 = [0.873, 2.817, 0.121, -0.945, -0.055, -1.436, 0.360, -1.478, -1.637, -1.869]\n",
    "data2 = [1.142, -0.432, -0.938, -0.729, -0.846, -0.157, 0.500, 1.183, -1.075, -0.169]\n",
    "stat, p = kruskal(data1, data2)\n",
    "print('stat=%.3f, p=%.3f' % (stat, p))\n",
    "if p > 0.05:\n",
    "    print('Probably the same distribution')\n",
    "else:\n",
    "    print('Probably different distributions')"
   ]
  },
  {
   "cell_type": "code",
   "execution_count": null,
   "metadata": {},
   "outputs": [],
   "source": []
  },
  {
   "cell_type": "markdown",
   "metadata": {},
   "source": [
    "#### Friedman Test\n",
    "\n",
    "* Tests whether the means of two or more paired samples are significantly different.\n",
    "\n",
    "1. Assumptions\n",
    "\n",
    "    * Observations in each sample are independent and identically distributed (iid).\n",
    "    * Observations in each sample can be ranked.)\n",
    "    * Observations across each sample are paired. (sample having two values e.g. Before & After)\n",
    "    \n",
    "2. Interpretation\n",
    "\n",
    "    * H0: the distributions of all samples are equal.\n",
    "    * H1: the distributions of one or more samples are not equal."
   ]
  },
  {
   "cell_type": "code",
   "execution_count": 48,
   "metadata": {
    "ExecuteTime": {
     "end_time": "2020-12-29T15:31:27.423391Z",
     "start_time": "2020-12-29T15:31:27.411429Z"
    }
   },
   "outputs": [
    {
     "name": "stdout",
     "output_type": "stream",
     "text": [
      "stat=0.800, p=0.670\n",
      "Probably the same distribution\n"
     ]
    }
   ],
   "source": [
    "# Example of the Friedman Test\n",
    "from scipy.stats import friedmanchisquare\n",
    "\n",
    "data1 = [0.873, 2.817, 0.121, -0.945, -0.055, -1.436, 0.360, -1.478, -1.637, -1.869]\n",
    "data2 = [1.142, -0.432, -0.938, -0.729, -0.846, -0.157, 0.500, 1.183, -1.075, -0.169]\n",
    "data3 = [-0.208, 0.696, 0.928, -1.148, -0.213, 0.229, 0.137, 0.269, -0.870, -1.204]\n",
    "\n",
    "stat, p = friedmanchisquare(data1, data2, data3)\n",
    "print('stat=%.3f, p=%.3f' % (stat, p))\n",
    "if p > 0.05:\n",
    "    print('Probably the same distribution')\n",
    "else:\n",
    "    print('Probably different distributions')"
   ]
  },
  {
   "cell_type": "code",
   "execution_count": null,
   "metadata": {},
   "outputs": [],
   "source": []
  },
  {
   "cell_type": "code",
   "execution_count": null,
   "metadata": {
    "ExecuteTime": {
     "end_time": "2020-12-29T13:40:34.771759Z",
     "start_time": "2020-12-29T13:40:34.659747Z"
    }
   },
   "outputs": [],
   "source": [
    "\n",
    "\n"
   ]
  },
  {
   "cell_type": "code",
   "execution_count": null,
   "metadata": {},
   "outputs": [],
   "source": []
  }
 ],
 "metadata": {
  "kernelspec": {
   "display_name": "Python 3",
   "language": "python",
   "name": "python3"
  },
  "language_info": {
   "codemirror_mode": {
    "name": "ipython",
    "version": 3
   },
   "file_extension": ".py",
   "mimetype": "text/x-python",
   "name": "python",
   "nbconvert_exporter": "python",
   "pygments_lexer": "ipython3",
   "version": "3.7.9"
  }
 },
 "nbformat": 4,
 "nbformat_minor": 4
}
